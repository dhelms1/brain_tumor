{
 "cells": [
  {
   "cell_type": "markdown",
   "id": "associate-drinking",
   "metadata": {},
   "source": [
    "# Brain Tumor Detection\n",
    "\n",
    "*To be filled in...*"
   ]
  },
  {
   "cell_type": "code",
   "execution_count": null,
   "id": "spare-tiger",
   "metadata": {},
   "outputs": [],
   "source": []
  }
 ],
 "metadata": {
  "kernelspec": {
   "display_name": "conda_tensorflow2_p36",
   "language": "python",
   "name": "conda_tensorflow2_p36"
  },
  "language_info": {
   "codemirror_mode": {
    "name": "ipython",
    "version": 3
   },
   "file_extension": ".py",
   "mimetype": "text/x-python",
   "name": "python",
   "nbconvert_exporter": "python",
   "pygments_lexer": "ipython3",
   "version": "3.6.13"
  }
 },
 "nbformat": 4,
 "nbformat_minor": 5
}
